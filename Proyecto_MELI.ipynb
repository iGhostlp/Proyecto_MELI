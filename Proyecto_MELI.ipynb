{
  "nbformat": 4,
  "nbformat_minor": 0,
  "metadata": {
    "colab": {
      "provenance": [],
      "authorship_tag": "ABX9TyPRS+x335Fk/fsAhuiZUzh4",
      "include_colab_link": true
    },
    "kernelspec": {
      "name": "python3",
      "display_name": "Python 3"
    },
    "language_info": {
      "name": "python"
    }
  },
  "cells": [
    {
      "cell_type": "markdown",
      "metadata": {
        "id": "view-in-github",
        "colab_type": "text"
      },
      "source": [
        "<a href=\"https://colab.research.google.com/github/iGhostlp/Proyecto_MELI/blob/master/Proyecto_MELI.ipynb\" target=\"_parent\"><img src=\"https://colab.research.google.com/assets/colab-badge.svg\" alt=\"Open In Colab\"/></a>"
      ]
    },
    {
      "cell_type": "markdown",
      "source": [
        "# **Prueba usando base de datos kaggle**"
      ],
      "metadata": {
        "id": "VxE2gemqecmP"
      }
    },
    {
      "cell_type": "markdown",
      "source": [
        "Librerias"
      ],
      "metadata": {
        "id": "kAHtyEQ_fZ6P"
      }
    },
    {
      "cell_type": "code",
      "source": [
        "from pyspark import *\n",
        "import pandas as pd\n",
        "import numpy as np\n",
        "from pyspark.sql import SQLContext\n",
        "import pyspark.sql.functions as sqlf\n",
        "import yaml\n",
        "# import validations\n",
        "#import matplotlib.pyplot as plt\n",
        "from pyspark.sql.types import *\n",
        "import pyarrow.parquet as pq\n",
        "#Master\n",
        "#from pyspark.sql import functions as F\n",
        "#from pyspark.sql import SparkSession\n",
        "pd.options.display.max_columns = 999\n",
        "pd.set_option('max_colwidth',200)\n",
        "#spark.conf.set(\"spark.sql.execution.arrow.enabled\",\"false\")\n",
        "import kagglehub\n",
        "from kagglehub import KaggleDatasetAdapter\n",
        "import os"
      ],
      "metadata": {
        "id": "M6gwQI-44e0n"
      },
      "execution_count": null,
      "outputs": []
    },
    {
      "cell_type": "code",
      "source": [
        "# Descarga la última versión del dataset\n",
        "dataset_path = kagglehub.dataset_download(\"davidcariboo/player-scores\")\n",
        "\n",
        "# Obtener todos los archivos CSV en el dataset\n",
        "csv_files = [file for file in os.listdir(dataset_path) if file.endswith(\".csv\")]\n",
        "print(\"Archivos encontrados:\", csv_files)\n",
        "\n",
        "# Diccionario para almacenar los DataFrames\n",
        "df_dict = {}\n",
        "\n",
        "# Leer y almacenar cada CSV en el diccionario\n",
        "for file in csv_files:\n",
        "    df_name = file.replace(\".csv\", \"\")  # Usar el nombre del archivo como clave\n",
        "    df_dict[df_name] = pd.read_csv(os.path.join(dataset_path, file))\n",
        "\n",
        "# Ver el nombre de las claves del diccionario y el tamaño de cada DataFrame\n",
        "for name, df in df_dict.items():\n",
        "    print(f\"DataFrame para {name}:\")\n",
        "    print(df.head(), \"\\n\")  # Muestra las primeras filas de cada DataFrame"
      ],
      "metadata": {
        "id": "ZyzJjdXxegcs"
      },
      "execution_count": null,
      "outputs": []
    },
    {
      "cell_type": "code",
      "source": [
        "df_appearances = df_dict[\"appearances\"]\n",
        "df_club_games = df_dict[\"club_games\"]\n",
        "df_club_games = df_dict[\"club_games\"]\n",
        "df_competitions = df_dict[\"competitions\"]\n",
        "df_game_events = df_dict[\"game_events\"]\n",
        "df_games = df_dict[\"games\"]\n",
        "df_players = df_dict[\"players\"]"
      ],
      "metadata": {
        "id": "Hxzxn_68lDB-"
      },
      "execution_count": 143,
      "outputs": []
    },
    {
      "cell_type": "code",
      "source": [
        "df_competitions.head()"
      ],
      "metadata": {
        "id": "DmZo6IqroWLw"
      },
      "execution_count": null,
      "outputs": []
    },
    {
      "cell_type": "code",
      "source": [
        "df1 = df_competitions.filter(items=['competition_id','name','country_name','domestic_league_code','confederation'])"
      ],
      "metadata": {
        "id": "tL2z4cjNm9xu"
      },
      "execution_count": 169,
      "outputs": []
    },
    {
      "cell_type": "code",
      "source": [
        "print(df1.head(10))"
      ],
      "metadata": {
        "colab": {
          "base_uri": "https://localhost:8080/"
        },
        "id": "SaaHRUP5nmZd",
        "outputId": "771ecd2a-94e4-4f41-aad3-bfd14d0fca45"
      },
      "execution_count": 170,
      "outputs": [
        {
          "output_type": "stream",
          "name": "stdout",
          "text": [
            "  competition_id                           name country_name  \\\n",
            "0            CIT                      italy-cup        Italy   \n",
            "1           NLSC           johan-cruijff-schaal  Netherlands   \n",
            "2            GRP                kypello-elladas       Greece   \n",
            "3           POSU  supertaca-candido-de-oliveira     Portugal   \n",
            "4           RUSS              russian-super-cup       Russia   \n",
            "5            SUC                      supercopa        Spain   \n",
            "6            USC                 uefa-super-cup          NaN   \n",
            "7            DK1                    superligaen      Denmark   \n",
            "8             EL                  europa-league          NaN   \n",
            "9            ES1                         laliga        Spain   \n",
            "\n",
            "  domestic_league_code confederation  \n",
            "0                  IT1        europa  \n",
            "1                  NL1        europa  \n",
            "2                  GR1        europa  \n",
            "3                  PO1        europa  \n",
            "4                  RU1        europa  \n",
            "5                  ES1        europa  \n",
            "6                  NaN        europa  \n",
            "7                  DK1        europa  \n",
            "8                  NaN        europa  \n",
            "9                  ES1        europa  \n"
          ]
        }
      ]
    },
    {
      "cell_type": "code",
      "source": [
        "# Paso 1: Selección de liga (Solo ligas principales de Europa)\n",
        "ligas_europa = [\"Premier League\", \"La Liga\", \"Bundesliga\", \"Serie A\", \"Ligue 1\"]\n",
        "\n",
        "print(\"\\nElige una liga de Europa:\")\n",
        "for i, liga in enumerate(ligas_europa, 1):\n",
        "    print(f\"{i}. {liga}\")\n",
        "\n",
        "opcion = int(input(\"Ingresa el número de la liga: \").strip())\n",
        "liga_elegida = ligas_europa[opcion - 1] if 1 <= opcion <= len(ligas_europa) else exit()\n",
        "\n",
        "# Filtrar el dataset por la liga elegida\n",
        "df_liga = df_final[df_final[\"competition_id\"] == liga_elegida]\n",
        "\n",
        "# Agrupar por equipo y sumar los goles\n",
        "goles_por_equipo = df_liga.groupby(\"home_club_name\")[\"goals\"].sum()\n",
        "\n",
        "# Encontrar el equipo con más goles\n",
        "equipo_sugerido = goles_por_equipo.idxmax() if not goles_por_equipo.empty else \"No encontrado\"\n",
        "\n",
        "# Mostrar resultado\n",
        "print(f\"\\n⚽ ¡El equipo con más goles en {liga_elegida} es {equipo_sugerido}! ⚽\")"
      ],
      "metadata": {
        "colab": {
          "base_uri": "https://localhost:8080/"
        },
        "id": "9RWjlivCf02H",
        "outputId": "cfe4f253-ea0e-4e09-bb83-2585c15be7af"
      },
      "execution_count": 136,
      "outputs": [
        {
          "output_type": "stream",
          "name": "stdout",
          "text": [
            "\n",
            "Elige una liga de Europa:\n",
            "1. Premier League\n",
            "2. La Liga\n",
            "3. Bundesliga\n",
            "4. Serie A\n",
            "5. Ligue 1\n",
            "Ingresa el número de la liga: 1\n",
            "\n",
            "⚽ ¡El equipo con más goles en Premier League es No encontrado! ⚽\n"
          ]
        }
      ]
    },
    {
      "cell_type": "code",
      "source": [
        "import kagglehub\n",
        "\n",
        "# Download latest version\n",
        "path = kagglehub.dataset_download(\"davidcariboo/player-scores\")\n",
        "\n",
        "print(\"Path to dataset files:\", path)"
      ],
      "metadata": {
        "colab": {
          "base_uri": "https://localhost:8080/"
        },
        "id": "ZL_gByJP1Wam",
        "outputId": "50e5e44d-c7a1-4d94-85be-65b8be980005"
      },
      "execution_count": 124,
      "outputs": [
        {
          "output_type": "stream",
          "name": "stdout",
          "text": [
            "Path to dataset files: /root/.cache/kagglehub/datasets/davidcariboo/player-scores/versions/595\n"
          ]
        }
      ]
    },
    {
      "cell_type": "code",
      "source": [
        "import pandas as pd\n",
        "\n",
        "# Cargar el dataset de Kaggle \"player-scores\"\n",
        "df = pd.read_csv(\"player_scores.csv\")\n",
        "\n",
        "# Paso 1: Selección de liga (Solo ligas principales de Europa)\n",
        "ligas_europa = [\"Premier League\", \"La Liga\", \"Bundesliga\", \"Serie A\", \"Ligue 1\"]\n",
        "\n",
        "print(\"\\nElige una liga de Europa:\")\n",
        "for i, liga in enumerate(ligas_europa, 1):\n",
        "    print(f\"{i}. {liga}\")\n",
        "\n",
        "opcion = int(input(\"Ingresa el número de la liga: \").strip())\n",
        "liga_elegida = ligas_europa[opcion - 1] if 1 <= opcion <= len(ligas_europa) else exit()\n",
        "\n",
        "# Filtrar el dataset por la liga elegida\n",
        "df_liga = df[df[\"league\"] == liga_elegida]\n",
        "\n",
        "# Agrupar por equipo y sumar los goles\n",
        "goles_por_equipo = df_liga.groupby(\"team\")[\"goals\"].sum()\n",
        "\n",
        "# Encontrar el equipo con más goles\n",
        "equipo_sugerido = goles_por_equipo.idxmax() if not goles_por_equipo.empty else \"No encontrado\"\n",
        "\n",
        "# Mostrar resultado\n",
        "print(f\"\\n⚽ ¡El equipo con más goles en {liga_elegida} es {equipo_sugerido}! ⚽\")"
      ],
      "metadata": {
        "id": "bXK55eqFIpEl"
      },
      "execution_count": null,
      "outputs": []
    },
    {
      "cell_type": "code",
      "source": [],
      "metadata": {
        "id": "zrBWPA0eKjvJ"
      },
      "execution_count": null,
      "outputs": []
    },
    {
      "cell_type": "markdown",
      "source": [
        "# **Nuevo metodo YT**"
      ],
      "metadata": {
        "id": "YXvIGVIaKkUW"
      }
    },
    {
      "cell_type": "code",
      "source": [
        "pip install LanusStats"
      ],
      "metadata": {
        "id": "wvRp9p0DKqyN"
      },
      "execution_count": null,
      "outputs": []
    },
    {
      "cell_type": "code",
      "source": [
        "pip install tyrone_mings"
      ],
      "metadata": {
        "colab": {
          "base_uri": "https://localhost:8080/"
        },
        "id": "6SH6TvYXMDaV",
        "outputId": "701b7de5-d1f9-49dc-ba24-7826a1775286"
      },
      "execution_count": 3,
      "outputs": [
        {
          "output_type": "stream",
          "name": "stdout",
          "text": [
            "Collecting tyrone_mings\n",
            "  Downloading tyrone_mings-1.3.0-py2.py3-none-any.whl.metadata (665 bytes)\n",
            "Requirement already satisfied: lxml>=4.5.0 in /usr/local/lib/python3.11/dist-packages (from tyrone_mings) (5.3.1)\n",
            "Requirement already satisfied: requests>=2.0.0 in /usr/local/lib/python3.11/dist-packages (from tyrone_mings) (2.32.3)\n",
            "Collecting bs4==0.0.1 (from tyrone_mings)\n",
            "  Downloading bs4-0.0.1.tar.gz (1.1 kB)\n",
            "  Preparing metadata (setup.py) ... \u001b[?25l\u001b[?25hdone\n",
            "\u001b[33mWARNING: Retrying (Retry(total=4, connect=None, read=None, redirect=None, status=None)) after connection broken by 'ProtocolError('Connection aborted.', RemoteDisconnected('Remote end closed connection without response'))': /simple/js2xml/\u001b[0m\u001b[33m\n",
            "\u001b[0mCollecting js2xml==0.3.1 (from tyrone_mings)\n",
            "  Downloading js2xml-0.3.1-py2.py3-none-any.whl.metadata (1.2 kB)\n",
            "Requirement already satisfied: pandas>=0.23.4 in /usr/local/lib/python3.11/dist-packages (from tyrone_mings) (2.2.2)\n",
            "Requirement already satisfied: beautifulsoup4 in /usr/local/lib/python3.11/dist-packages (from bs4==0.0.1->tyrone_mings) (4.13.3)\n",
            "Requirement already satisfied: six in /usr/local/lib/python3.11/dist-packages (from js2xml==0.3.1->tyrone_mings) (1.17.0)\n",
            "Collecting slimit (from js2xml==0.3.1->tyrone_mings)\n",
            "  Downloading slimit-0.8.1.zip (88 kB)\n",
            "\u001b[2K     \u001b[90m━━━━━━━━━━━━━━━━━━━━━━━━━━━━━━━━━━━━━━━━\u001b[0m \u001b[32m88.2/88.2 kB\u001b[0m \u001b[31m1.9 MB/s\u001b[0m eta \u001b[36m0:00:00\u001b[0m\n",
            "\u001b[?25h  Preparing metadata (setup.py) ... \u001b[?25l\u001b[?25hdone\n",
            "Requirement already satisfied: numpy>=1.23.2 in /usr/local/lib/python3.11/dist-packages (from pandas>=0.23.4->tyrone_mings) (2.0.2)\n",
            "Requirement already satisfied: python-dateutil>=2.8.2 in /usr/local/lib/python3.11/dist-packages (from pandas>=0.23.4->tyrone_mings) (2.8.2)\n",
            "Requirement already satisfied: pytz>=2020.1 in /usr/local/lib/python3.11/dist-packages (from pandas>=0.23.4->tyrone_mings) (2025.2)\n",
            "Requirement already satisfied: tzdata>=2022.7 in /usr/local/lib/python3.11/dist-packages (from pandas>=0.23.4->tyrone_mings) (2025.2)\n",
            "Requirement already satisfied: charset-normalizer<4,>=2 in /usr/local/lib/python3.11/dist-packages (from requests>=2.0.0->tyrone_mings) (3.4.1)\n",
            "Requirement already satisfied: idna<4,>=2.5 in /usr/local/lib/python3.11/dist-packages (from requests>=2.0.0->tyrone_mings) (3.10)\n",
            "Requirement already satisfied: urllib3<3,>=1.21.1 in /usr/local/lib/python3.11/dist-packages (from requests>=2.0.0->tyrone_mings) (2.3.0)\n",
            "Requirement already satisfied: certifi>=2017.4.17 in /usr/local/lib/python3.11/dist-packages (from requests>=2.0.0->tyrone_mings) (2025.1.31)\n",
            "Requirement already satisfied: soupsieve>1.2 in /usr/local/lib/python3.11/dist-packages (from beautifulsoup4->bs4==0.0.1->tyrone_mings) (2.6)\n",
            "Requirement already satisfied: typing-extensions>=4.0.0 in /usr/local/lib/python3.11/dist-packages (from beautifulsoup4->bs4==0.0.1->tyrone_mings) (4.13.0)\n",
            "Requirement already satisfied: ply>=3.4 in /usr/local/lib/python3.11/dist-packages (from slimit->js2xml==0.3.1->tyrone_mings) (3.11)\n",
            "Downloading tyrone_mings-1.3.0-py2.py3-none-any.whl (15 kB)\n",
            "Downloading js2xml-0.3.1-py2.py3-none-any.whl (39 kB)\n",
            "Building wheels for collected packages: bs4, slimit\n",
            "  Building wheel for bs4 (setup.py) ... \u001b[?25l\u001b[?25hdone\n",
            "  Created wheel for bs4: filename=bs4-0.0.1-py3-none-any.whl size=1253 sha256=8abc7b822a3d9ea921b8490ef52395330af14129bf5a172ac62c036ed91ffc16\n",
            "  Stored in directory: /root/.cache/pip/wheels/d4/c8/5b/b5be9c20e5e4503d04a6eac8a3cd5c2393505c29f02bea0960\n",
            "  Building wheel for slimit (setup.py) ... \u001b[?25l\u001b[?25hdone\n",
            "  Created wheel for slimit: filename=slimit-0.8.1-py3-none-any.whl size=79435 sha256=836e0e65a42416403c70ffbfb1f5806ad18ddd118e99fae412b6024b4ba56dfd\n",
            "  Stored in directory: /root/.cache/pip/wheels/31/31/61/62edc1218576ea1737878bb64623e52117c45637fc54118c04\n",
            "Successfully built bs4 slimit\n",
            "Installing collected packages: slimit, js2xml, bs4, tyrone_mings\n",
            "  Attempting uninstall: bs4\n",
            "    Found existing installation: bs4 0.0.2\n",
            "    Uninstalling bs4-0.0.2:\n",
            "      Successfully uninstalled bs4-0.0.2\n",
            "Successfully installed bs4-0.0.1 js2xml-0.3.1 slimit-0.8.1 tyrone_mings-1.3.0\n"
          ]
        }
      ]
    },
    {
      "cell_type": "code",
      "source": [
        "pip install devtools"
      ],
      "metadata": {
        "colab": {
          "base_uri": "https://localhost:8080/"
        },
        "id": "Mep0Q8hfMYUa",
        "outputId": "b61b980a-898a-4253-c0e4-2a32af421ee2"
      },
      "execution_count": 5,
      "outputs": [
        {
          "output_type": "stream",
          "name": "stdout",
          "text": [
            "Collecting devtools\n",
            "  Downloading devtools-0.12.2-py3-none-any.whl.metadata (4.8 kB)\n",
            "Collecting asttokens<3.0.0,>=2.0.0 (from devtools)\n",
            "  Downloading asttokens-2.4.1-py2.py3-none-any.whl.metadata (5.2 kB)\n",
            "Collecting executing>=1.1.1 (from devtools)\n",
            "  Downloading executing-2.2.0-py2.py3-none-any.whl.metadata (8.9 kB)\n",
            "Requirement already satisfied: pygments>=2.15.0 in /usr/local/lib/python3.11/dist-packages (from devtools) (2.18.0)\n",
            "Requirement already satisfied: six>=1.12.0 in /usr/local/lib/python3.11/dist-packages (from asttokens<3.0.0,>=2.0.0->devtools) (1.17.0)\n",
            "Downloading devtools-0.12.2-py3-none-any.whl (19 kB)\n",
            "Downloading asttokens-2.4.1-py2.py3-none-any.whl (27 kB)\n",
            "Downloading executing-2.2.0-py2.py3-none-any.whl (26 kB)\n",
            "Installing collected packages: executing, asttokens, devtools\n",
            "Successfully installed asttokens-2.4.1 devtools-0.12.2 executing-2.2.0\n"
          ]
        }
      ]
    },
    {
      "cell_type": "code",
      "source": [
        "install.packages(\"worldfootballR\")"
      ],
      "metadata": {
        "colab": {
          "base_uri": "https://localhost:8080/",
          "height": 141
        },
        "id": "fKRz_BdVYe2z",
        "outputId": "382afb54-ca34-4bb1-e7df-7e66d4e63f7b"
      },
      "execution_count": 7,
      "outputs": [
        {
          "output_type": "error",
          "ename": "NameError",
          "evalue": "name 'install' is not defined",
          "traceback": [
            "\u001b[0;31m---------------------------------------------------------------------------\u001b[0m",
            "\u001b[0;31mNameError\u001b[0m                                 Traceback (most recent call last)",
            "\u001b[0;32m<ipython-input-7-9b3009eef1bc>\u001b[0m in \u001b[0;36m<cell line: 0>\u001b[0;34m()\u001b[0m\n\u001b[0;32m----> 1\u001b[0;31m \u001b[0minstall\u001b[0m\u001b[0;34m.\u001b[0m\u001b[0mpackages\u001b[0m\u001b[0;34m(\u001b[0m\u001b[0;34m\"worldfootballR\"\u001b[0m\u001b[0;34m)\u001b[0m\u001b[0;34m\u001b[0m\u001b[0;34m\u001b[0m\u001b[0m\n\u001b[0m",
            "\u001b[0;31mNameError\u001b[0m: name 'install' is not defined"
          ]
        }
      ]
    },
    {
      "cell_type": "markdown",
      "source": [
        "Inicializacion Librerias"
      ],
      "metadata": {
        "id": "YNdK1mOHUqXC"
      }
    },
    {
      "cell_type": "code",
      "source": [
        "from pyspark import *\n",
        "import pandas as pd\n",
        "import numpy as np\n",
        "from pyspark.sql import SQLContext\n",
        "import pyspark.sql.functions as sqlf\n",
        "import yaml\n",
        "# import validations\n",
        "#import matplotlib.pyplot as plt\n",
        "from pyspark.sql.types import *\n",
        "import pyarrow.parquet as pq\n",
        "#Master\n",
        "#from pyspark.sql import functions as F\n",
        "#from pyspark.sql import SparkSession\n",
        "#import pandas as pd\n",
        "pd.options.display.max_columns = 999\n",
        "pd.set_option('max_colwidth',200)\n",
        "#spark.conf.set(\"spark.sql.execution.arrow.enabled\",\"false\")\n",
        "import LanusStats as ls\n",
        "import tyrone_mings as tm\n"
      ],
      "metadata": {
        "id": "XlkYnQEJKm40"
      },
      "execution_count": 114,
      "outputs": []
    },
    {
      "cell_type": "markdown",
      "source": [
        "Creo Listas para diferencias ligas UEFA de CONMEBOL"
      ],
      "metadata": {
        "id": "Do1jJS3_Ux2G"
      }
    },
    {
      "cell_type": "code",
      "source": [
        "ls.get_possible_leagues"
      ],
      "metadata": {
        "colab": {
          "base_uri": "https://localhost:8080/",
          "height": 186
        },
        "id": "M9Anwvm1K9wL",
        "outputId": "87cb04b6-1846-4f42-97e1-336fe9e7fedd"
      },
      "execution_count": 24,
      "outputs": [
        {
          "output_type": "execute_result",
          "data": {
            "text/plain": [
              "<function LanusStats.functions.get_possible_leagues(league, season, page)>"
            ],
            "text/html": [
              "<div style=\"max-width:800px; border: 1px solid var(--colab-border-color);\"><style>\n",
              "      pre.function-repr-contents {\n",
              "        overflow-x: auto;\n",
              "        padding: 8px 12px;\n",
              "        max-height: 500px;\n",
              "      }\n",
              "\n",
              "      pre.function-repr-contents.function-repr-contents-collapsed {\n",
              "        cursor: pointer;\n",
              "        max-height: 100px;\n",
              "      }\n",
              "    </style>\n",
              "    <pre style=\"white-space: initial; background:\n",
              "         var(--colab-secondary-surface-color); padding: 8px 12px;\n",
              "         border-bottom: 1px solid var(--colab-border-color);\"><b>LanusStats.functions.get_possible_leagues</b><br/>def get_possible_leagues(league, season, page)</pre><pre class=\"function-repr-contents function-repr-contents-collapsed\" style=\"\"><a class=\"filepath\" style=\"display:none\" href=\"#\">/usr/local/lib/python3.11/dist-packages/LanusStats/functions.py</a>Dictionary with all the possible pages, leagues and season for the scraper.\n",
              "Also contains some exception to prevent errors such as a league or page that is not a part of the scraper.\n",
              "\n",
              "Args:\n",
              "    league (str): League to scrape\n",
              "    season (str): Season to scrape\n",
              "    page (str): Page to scrape\n",
              "\n",
              "Raises:\n",
              "    InvalidStrType: If a parameter is not a string\n",
              "    InvalidLeagueException: If a league is not inside all the leagues possibles\n",
              "    InvalidSeasonException: If a season is not inside all the seasons possibles\n",
              "\n",
              "Returns:\n",
              "    dict: dictionary with the possible leagues</pre>\n",
              "      <script>\n",
              "      if (google.colab.kernel.accessAllowed && google.colab.files && google.colab.files.view) {\n",
              "        for (const element of document.querySelectorAll('.filepath')) {\n",
              "          element.style.display = 'block'\n",
              "          element.onclick = (event) => {\n",
              "            event.preventDefault();\n",
              "            event.stopPropagation();\n",
              "            google.colab.files.view(element.textContent, 4);\n",
              "          };\n",
              "        }\n",
              "      }\n",
              "      for (const element of document.querySelectorAll('.function-repr-contents')) {\n",
              "        element.onclick = (event) => {\n",
              "          event.preventDefault();\n",
              "          event.stopPropagation();\n",
              "          element.classList.toggle('function-repr-contents-collapsed');\n",
              "        };\n",
              "      }\n",
              "      </script>\n",
              "      </div>"
            ]
          },
          "metadata": {},
          "execution_count": 24
        }
      ]
    },
    {
      "cell_type": "code",
      "source": [
        "df = tm_pull\n",
        "output_dict = tm_pull(player_page, player_bio = True, output = 'pandas')"
      ],
      "metadata": {
        "id": "79clCMMELqa3"
      },
      "execution_count": null,
      "outputs": []
    },
    {
      "cell_type": "code",
      "source": [
        "consola1 = str(input(\"Que decada buscas?: \"))"
      ],
      "metadata": {
        "colab": {
          "base_uri": "https://localhost:8080/"
        },
        "id": "Gt0m_cw2Owid",
        "outputId": "cf821c31-9b2d-4e2f-929d-86184919ec9f"
      },
      "execution_count": null,
      "outputs": [
        {
          "name": "stdout",
          "output_type": "stream",
          "text": [
            "Que decada buscas?: 90\n"
          ]
        }
      ]
    },
    {
      "cell_type": "code",
      "source": [
        "Parametro_decada = consola1"
      ],
      "metadata": {
        "id": "CwHnWcnUPSqD"
      },
      "execution_count": null,
      "outputs": []
    },
    {
      "cell_type": "code",
      "source": [
        "club_urls = get_club_urls_from_league_page(\"https://www.transfermarkt.com/premier-league/startseite/wettbewerb/GB1\")"
      ],
      "metadata": {
        "colab": {
          "base_uri": "https://localhost:8080/",
          "height": 263
        },
        "id": "0R9qIkNiR3r1",
        "outputId": "88da83d2-a1fe-4a4a-d0a7-231e48362c31"
      },
      "execution_count": null,
      "outputs": [
        {
          "output_type": "error",
          "ename": "IndexError",
          "evalue": "list index out of range",
          "traceback": [
            "\u001b[0;31m---------------------------------------------------------------------------\u001b[0m",
            "\u001b[0;31mIndexError\u001b[0m                                Traceback (most recent call last)",
            "\u001b[0;32m<ipython-input-129-9fbe0b611cb9>\u001b[0m in \u001b[0;36m<cell line: 0>\u001b[0;34m()\u001b[0m\n\u001b[0;32m----> 1\u001b[0;31m \u001b[0mclub_urls\u001b[0m \u001b[0;34m=\u001b[0m \u001b[0mget_club_urls_from_league_page\u001b[0m\u001b[0;34m(\u001b[0m\u001b[0;34m\"https://www.transfermarkt.com/premier-league/startseite/wettbewerb/GB1\"\u001b[0m\u001b[0;34m)\u001b[0m\u001b[0;34m\u001b[0m\u001b[0;34m\u001b[0m\u001b[0m\n\u001b[0m",
            "\u001b[0;32m/usr/local/lib/python3.11/dist-packages/tyrone_mings/leaguesclubs.py\u001b[0m in \u001b[0;36mget_club_urls_from_league_page\u001b[0;34m(club_url)\u001b[0m\n\u001b[1;32m     13\u001b[0m \u001b[0;34m\u001b[0m\u001b[0m\n\u001b[1;32m     14\u001b[0m     \u001b[0mclub_urls\u001b[0m \u001b[0;34m=\u001b[0m \u001b[0;34m[\u001b[0m\u001b[0;34m]\u001b[0m\u001b[0;34m\u001b[0m\u001b[0;34m\u001b[0m\u001b[0m\n\u001b[0;32m---> 15\u001b[0;31m     \u001b[0;32mfor\u001b[0m \u001b[0mrow\u001b[0m \u001b[0;32min\u001b[0m \u001b[0mleague_base_page\u001b[0m\u001b[0;34m.\u001b[0m\u001b[0mfind_all\u001b[0m\u001b[0;34m(\u001b[0m\u001b[0;34m'table'\u001b[0m\u001b[0;34m,\u001b[0m \u001b[0;34m'items'\u001b[0m\u001b[0;34m)\u001b[0m\u001b[0;34m[\u001b[0m\u001b[0;36m0\u001b[0m\u001b[0;34m]\u001b[0m\u001b[0;34m.\u001b[0m\u001b[0mselect\u001b[0m\u001b[0;34m(\u001b[0m\u001b[0;34m'tr'\u001b[0m\u001b[0;34m)\u001b[0m\u001b[0;34m:\u001b[0m\u001b[0;34m\u001b[0m\u001b[0;34m\u001b[0m\u001b[0m\n\u001b[0m\u001b[1;32m     16\u001b[0m         \u001b[0;32mfor\u001b[0m \u001b[0mitem\u001b[0m \u001b[0;32min\u001b[0m \u001b[0mrow\u001b[0m\u001b[0;34m.\u001b[0m\u001b[0mfind_all\u001b[0m\u001b[0;34m(\u001b[0m\u001b[0;34m'td'\u001b[0m\u001b[0;34m,\u001b[0m \u001b[0;34m'hauptlink'\u001b[0m\u001b[0;34m)\u001b[0m\u001b[0;34m:\u001b[0m\u001b[0;34m\u001b[0m\u001b[0;34m\u001b[0m\u001b[0m\n\u001b[1;32m     17\u001b[0m             \u001b[0;32mtry\u001b[0m\u001b[0;34m:\u001b[0m\u001b[0;34m\u001b[0m\u001b[0;34m\u001b[0m\u001b[0m\n",
            "\u001b[0;31mIndexError\u001b[0m: list index out of range"
          ]
        }
      ]
    },
    {
      "cell_type": "code",
      "source": [
        "from pyspark import *\n",
        "import numpy as np\n",
        "from pyspark.sql import SQLContext\n",
        "import pyspark.sql.functions as sqlf\n",
        "import yaml\n",
        "# import validations\n",
        "#import matplotlib.pyplot as plt\n",
        "from pyspark.sql.types import *\n",
        "import pyarrow.parquet as pq\n",
        "pd.options.display.max_columns = 999\n",
        "pd.set_option('max_colwidth',200)\n",
        "#spark.conf.set(\"spark.sql.execution.arrow.enabled\",\"false\")\n",
        "import LanusStats as ls\n",
        "import tyrone_mings as tm\n",
        "import kagglehub\n",
        "import pandas as pd\n",
        "import requests\n",
        "\n"
      ],
      "metadata": {
        "id": "yh-n0uq2RXsQ"
      },
      "execution_count": 59,
      "outputs": []
    },
    {
      "cell_type": "code",
      "source": [
        "def obtener_equipo_top_goles(liga):\n",
        "    \"\"\"Filtra el dataset por liga y calcula qué equipo hizo más goles.\"\"\"\n",
        "    df_liga = df[df[\"competition_code\"] == liga]  # Filtrar por liga\n",
        "    top_equipo = df_liga.groupby(\"team\")[\"goals\"].sum().idxmax()  # Sumar goles y encontrar el máximo\n",
        "    return top_equipo"
      ],
      "metadata": {
        "id": "yKMs3_6PskKH"
      },
      "execution_count": 48,
      "outputs": []
    },
    {
      "cell_type": "code",
      "source": [
        "def obtener_enlace_mercadolibre(equipo):\n",
        "    \"\"\"Genera un enlace de búsqueda en MercadoLibre con el nombre del equipo.\"\"\"\n",
        "    base_url = \"https://www.mercadolibre.com.ar/ar/search\"\n",
        "    params = {\"q\": f\"camiseta {equipo_sugerido}\", \"condition\": \"new\"}\n",
        "    return f\"{base_url}?q=camiseta+{equipo.replace(' ', '+')}\"\n",
        "\n",
        "# 📌 Paso 1: Preguntar la región\n",
        "region = input(\"¿Quieres un equipo de Europa o Sudamérica? \").strip().lower()\n",
        "\n",
        "ligas_europa = [\"Premier League\", \"La Liga\", \"Bundesliga\", \"Serie A\", \"Ligue 1\"]\n",
        "ligas_sudamerica = [\"Liga Argentina\", \"Brasileirão\", \"Liga Chilena\", \"Liga Uruguaya\"]\n",
        "\n",
        "ligas = ligas_europa if region == \"europa\" else ligas_sudamerica\n",
        "\n",
        "# 📌 Paso 2: Preguntar la liga\n",
        "print(\"\\nElige una liga:\")\n",
        "for i, liga in enumerate(ligas, 1):\n",
        "    print(f\"{i}. {liga}\")\n",
        "\n",
        "opcion = int(input(\"Ingresa el número de la liga: \").strip())\n",
        "liga_elegida = ligas[opcion - 1] if 1 <= opcion <= len(ligas) else exit()\n",
        "\n",
        "# 📌 Paso 3: Obtener equipo con más goles\n",
        "equipo_sugerido = obtener_equipo_top_goles(liga_elegida)\n",
        "\n",
        "# 📌 Mostrar resultado\n",
        "print(f\"\\n⚽ ¡El equipo con más goles en {liga_elegida} es {equipo_sugerido}! ⚽\")\n",
        "\n",
        "\n",
        "# 📌 Paso 5: Generar enlace de compra en MercadoLibre\n",
        "enlace_compra = obtener_enlace_mercadolibre(equipo_sugerido)\n",
        "\n",
        "# 📌 Mostrar resultado\n",
        "print(f\"\\n🎉 ¡Equipo sugerido: {equipo_sugerido}! 🎉\")\n",
        "print(f\"🔗 Aca te dejo una busqueda para comprar tu camiseta: {enlace_compra}\")"
      ],
      "metadata": {
        "id": "rvYtu1cPTYK1"
      },
      "execution_count": null,
      "outputs": []
    },
    {
      "cell_type": "code",
      "source": [
        "def obtener_competicion_id(nombre_liga):\n",
        "    \"\"\"Busca el ID de la competición según el nombre de la liga.\"\"\"\n",
        "    url = f\"https://transfermarkt-api.fly.dev/competitions/search/{nombre_liga}\"\n",
        "    response = requests.get(url)\n",
        "    if response.status_code == 200:\n",
        "        competiciones = response.json()\n",
        "        if competiciones:\n",
        "            return competiciones[0][\"competition_id\"]  # Tomamos el primer resultado\n",
        "    return None\n"
      ],
      "metadata": {
        "id": "epm2lZuG22bf"
      },
      "execution_count": 99,
      "outputs": []
    },
    {
      "cell_type": "code",
      "source": [
        "def obtener_competicion_id(nombre_liga):\n",
        "    \"\"\"Busca el ID de la competición según el nombre de la liga.\"\"\"\n",
        "    # Modificación: URL de la API actualizada para que coincida con el formato esperado\n",
        "    url = f\"https://transfermarkt-api.fly.dev/competitions/search/Premier%20League?page_number=1\"\n",
        "    response = requests.get(url)\n",
        "    if response.status_code == 200:\n",
        "        competiciones = response.json()\n",
        "        if competiciones:\n",
        "            return competiciones[0][\"name\"]  # Tomamos el primer resultado\n",
        "            print(competiciones)\n",
        "    return None\n"
      ],
      "metadata": {
        "id": "QRY7dsLZUBHZ"
      },
      "execution_count": 112,
      "outputs": []
    },
    {
      "cell_type": "code",
      "source": [],
      "metadata": {
        "id": "JbisPq4wWc7q"
      },
      "execution_count": null,
      "outputs": []
    }
  ]
}